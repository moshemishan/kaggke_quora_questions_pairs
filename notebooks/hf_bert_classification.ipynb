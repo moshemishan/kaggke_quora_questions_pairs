{
 "cells": [
  {
   "cell_type": "code",
   "execution_count": 1,
   "metadata": {
    "ExecuteTime": {
     "end_time": "2021-01-11T11:56:03.045945Z",
     "start_time": "2021-01-11T11:55:58.188433Z"
    }
   },
   "outputs": [],
   "source": [
    "import pandas as pd \n",
    "import tqdm\n",
    "import multiprocessing\n",
    "\n",
    "import pytorch_lightning as pl\n",
    "import torch as th\n",
    "from pytorch_lightning.loggers import TensorBoardLogger\n",
    "from torch.utils.data import DataLoader, TensorDataset, RandomSampler\n",
    "\n",
    "import transformers\n",
    "\n",
    "from sklearn.model_selection import train_test_split"
   ]
  },
  {
   "cell_type": "code",
   "execution_count": 2,
   "metadata": {
    "ExecuteTime": {
     "end_time": "2021-01-11T11:56:03.169355Z",
     "start_time": "2021-01-11T11:56:03.047799Z"
    }
   },
   "outputs": [
    {
     "data": {
      "text/plain": [
       "True"
      ]
     },
     "execution_count": 2,
     "metadata": {},
     "output_type": "execute_result"
    }
   ],
   "source": [
    "th.cuda.get_device_name(0)\n",
    "th.cuda.is_available()"
   ]
  },
  {
   "cell_type": "code",
   "execution_count": 3,
   "metadata": {
    "ExecuteTime": {
     "end_time": "2021-01-11T11:56:03.397034Z",
     "start_time": "2021-01-11T11:56:03.390775Z"
    }
   },
   "outputs": [],
   "source": [
    "model_name = 'bert-base-uncased'\n",
    "batch_size = 32\n",
    "lr = 1e-2\n",
    "momentum = 0.9"
   ]
  },
  {
   "cell_type": "code",
   "execution_count": 4,
   "metadata": {
    "ExecuteTime": {
     "end_time": "2021-01-11T11:56:07.021171Z",
     "start_time": "2021-01-11T11:56:05.866194Z"
    }
   },
   "outputs": [],
   "source": [
    "df = pd.read_csv('../data/train.csv', index_col='id')"
   ]
  },
  {
   "cell_type": "code",
   "execution_count": 5,
   "metadata": {
    "ExecuteTime": {
     "end_time": "2021-01-11T11:56:07.356908Z",
     "start_time": "2021-01-11T11:56:07.340406Z"
    }
   },
   "outputs": [
    {
     "data": {
      "text/html": [
       "<div>\n",
       "<style scoped>\n",
       "    .dataframe tbody tr th:only-of-type {\n",
       "        vertical-align: middle;\n",
       "    }\n",
       "\n",
       "    .dataframe tbody tr th {\n",
       "        vertical-align: top;\n",
       "    }\n",
       "\n",
       "    .dataframe thead th {\n",
       "        text-align: right;\n",
       "    }\n",
       "</style>\n",
       "<table border=\"1\" class=\"dataframe\">\n",
       "  <thead>\n",
       "    <tr style=\"text-align: right;\">\n",
       "      <th></th>\n",
       "      <th>qid1</th>\n",
       "      <th>qid2</th>\n",
       "      <th>question1</th>\n",
       "      <th>question2</th>\n",
       "      <th>is_duplicate</th>\n",
       "    </tr>\n",
       "    <tr>\n",
       "      <th>id</th>\n",
       "      <th></th>\n",
       "      <th></th>\n",
       "      <th></th>\n",
       "      <th></th>\n",
       "      <th></th>\n",
       "    </tr>\n",
       "  </thead>\n",
       "  <tbody>\n",
       "    <tr>\n",
       "      <th>0</th>\n",
       "      <td>1</td>\n",
       "      <td>2</td>\n",
       "      <td>What is the step by step guide to invest in sh...</td>\n",
       "      <td>What is the step by step guide to invest in sh...</td>\n",
       "      <td>0</td>\n",
       "    </tr>\n",
       "    <tr>\n",
       "      <th>1</th>\n",
       "      <td>3</td>\n",
       "      <td>4</td>\n",
       "      <td>What is the story of Kohinoor (Koh-i-Noor) Dia...</td>\n",
       "      <td>What would happen if the Indian government sto...</td>\n",
       "      <td>0</td>\n",
       "    </tr>\n",
       "    <tr>\n",
       "      <th>2</th>\n",
       "      <td>5</td>\n",
       "      <td>6</td>\n",
       "      <td>How can I increase the speed of my internet co...</td>\n",
       "      <td>How can Internet speed be increased by hacking...</td>\n",
       "      <td>0</td>\n",
       "    </tr>\n",
       "    <tr>\n",
       "      <th>3</th>\n",
       "      <td>7</td>\n",
       "      <td>8</td>\n",
       "      <td>Why am I mentally very lonely? How can I solve...</td>\n",
       "      <td>Find the remainder when [math]23^{24}[/math] i...</td>\n",
       "      <td>0</td>\n",
       "    </tr>\n",
       "    <tr>\n",
       "      <th>4</th>\n",
       "      <td>9</td>\n",
       "      <td>10</td>\n",
       "      <td>Which one dissolve in water quikly sugar, salt...</td>\n",
       "      <td>Which fish would survive in salt water?</td>\n",
       "      <td>0</td>\n",
       "    </tr>\n",
       "  </tbody>\n",
       "</table>\n",
       "</div>"
      ],
      "text/plain": [
       "    qid1  qid2                                          question1  \\\n",
       "id                                                                  \n",
       "0      1     2  What is the step by step guide to invest in sh...   \n",
       "1      3     4  What is the story of Kohinoor (Koh-i-Noor) Dia...   \n",
       "2      5     6  How can I increase the speed of my internet co...   \n",
       "3      7     8  Why am I mentally very lonely? How can I solve...   \n",
       "4      9    10  Which one dissolve in water quikly sugar, salt...   \n",
       "\n",
       "                                            question2  is_duplicate  \n",
       "id                                                                   \n",
       "0   What is the step by step guide to invest in sh...             0  \n",
       "1   What would happen if the Indian government sto...             0  \n",
       "2   How can Internet speed be increased by hacking...             0  \n",
       "3   Find the remainder when [math]23^{24}[/math] i...             0  \n",
       "4             Which fish would survive in salt water?             0  "
      ]
     },
     "execution_count": 5,
     "metadata": {},
     "output_type": "execute_result"
    }
   ],
   "source": [
    "df.head()"
   ]
  },
  {
   "cell_type": "code",
   "execution_count": 6,
   "metadata": {
    "ExecuteTime": {
     "end_time": "2021-01-11T11:56:09.705456Z",
     "start_time": "2021-01-11T11:56:09.608327Z"
    }
   },
   "outputs": [],
   "source": [
    "df.dropna(inplace=True)"
   ]
  },
  {
   "cell_type": "code",
   "execution_count": 7,
   "metadata": {
    "ExecuteTime": {
     "end_time": "2021-01-11T11:56:11.260457Z",
     "start_time": "2021-01-11T11:56:11.180688Z"
    }
   },
   "outputs": [
    {
     "data": {
      "text/plain": [
       "qid1            404287\n",
       "qid2            404287\n",
       "question1       404287\n",
       "question2       404287\n",
       "is_duplicate    404287\n",
       "dtype: int64"
      ]
     },
     "execution_count": 7,
     "metadata": {},
     "output_type": "execute_result"
    }
   ],
   "source": [
    "df.count()"
   ]
  },
  {
   "cell_type": "code",
   "execution_count": 8,
   "metadata": {
    "ExecuteTime": {
     "end_time": "2021-01-10T20:27:29.450989Z",
     "start_time": "2021-01-10T20:27:29.448316Z"
    }
   },
   "outputs": [],
   "source": [
    "# tokenizer = transformers.BertTokenizer.from_pretrained(model)\n",
    "# tokenize = lambda x: tokenizer.tokenize(x)"
   ]
  },
  {
   "cell_type": "code",
   "execution_count": 9,
   "metadata": {
    "ExecuteTime": {
     "end_time": "2021-01-10T20:27:29.457044Z",
     "start_time": "2021-01-10T20:27:29.454008Z"
    }
   },
   "outputs": [],
   "source": [
    "# df['q1_len'] = df['question1'].apply(lambda x: len(tokenize(x)))\n",
    "# df['q2_len'] = df['question2'].apply(lambda x: len(tokenize(x)))"
   ]
  },
  {
   "cell_type": "code",
   "execution_count": 10,
   "metadata": {
    "ExecuteTime": {
     "end_time": "2021-01-10T20:27:29.462401Z",
     "start_time": "2021-01-10T20:27:29.459713Z"
    }
   },
   "outputs": [],
   "source": [
    "# df['join_length'] = df['q1_len'] + df['q2_len']"
   ]
  },
  {
   "cell_type": "code",
   "execution_count": 11,
   "metadata": {
    "ExecuteTime": {
     "end_time": "2021-01-10T20:27:29.467327Z",
     "start_time": "2021-01-10T20:27:29.464510Z"
    }
   },
   "outputs": [],
   "source": [
    "# max_length = df['join_length'].max()"
   ]
  },
  {
   "cell_type": "code",
   "execution_count": 10,
   "metadata": {
    "ExecuteTime": {
     "end_time": "2021-01-11T11:57:13.161364Z",
     "start_time": "2021-01-11T11:57:13.154961Z"
    }
   },
   "outputs": [],
   "source": [
    "df = df.sample(frac=0.1, replace=False, random_state=1)"
   ]
  },
  {
   "cell_type": "code",
   "execution_count": 11,
   "metadata": {
    "ExecuteTime": {
     "end_time": "2021-01-11T11:57:17.050305Z",
     "start_time": "2021-01-11T11:57:17.035685Z"
    }
   },
   "outputs": [],
   "source": [
    "X_train, X_test, y_train, y_test = train_test_split(df[['question1', 'question2']], \n",
    "                                                    df['is_duplicate'],\n",
    "                                                    test_size=0.2,\n",
    "                                                   random_state=1)"
   ]
  },
  {
   "cell_type": "code",
   "execution_count": 16,
   "metadata": {
    "ExecuteTime": {
     "end_time": "2021-01-11T12:00:14.082029Z",
     "start_time": "2021-01-11T12:00:14.031555Z"
    }
   },
   "outputs": [],
   "source": [
    "class QuoraQuestionSimilarity(pl.LightningModule):\n",
    "    def __init__(self, X_train, X_test, y_train, y_test):\n",
    "        super().__init__()\n",
    "        self.model = transformers.BertForSequenceClassification.from_pretrained(model_name)\n",
    "        self.loss = th.nn.CrossEntropyLoss(reduction='none')\n",
    "        self.x_train = X_train\n",
    "        self.y_train = y_train\n",
    "        self.x_test = X_test\n",
    "        self.y_test = y_test\n",
    "    \n",
    "    def prepare_data(self):\n",
    "        tokenizer = tokenizer = transformers.BertTokenizer.from_pretrained(model_name, num_labels=2)\n",
    "        \n",
    "        def _tokenize(x):\n",
    "            return tokenizer.encode_plus(x['question1'], x['question2'], \n",
    "                                         max_length=330, pad_to_max_length=True,\n",
    "                                         return_attention_mask=True, return_tensors='pt', \n",
    "                                         truncation=True)\n",
    "        \n",
    "        def _prepare(x, y):\n",
    "            input_ids = []\n",
    "            attention_masks = []\n",
    "            token_type_ids = []\n",
    "            for _, row in x.iterrows():\n",
    "                encoded_data = _tokenize(row)\n",
    "                input_ids.append(encoded_data['input_ids'])\n",
    "                token_type_ids.append(encoded_data[\"token_type_ids\"])\n",
    "                attention_masks.append(encoded_data['attention_mask'])\n",
    "                \n",
    "            input_ids = th.cat(input_ids, dim=0)\n",
    "            token_type_ids = th.cat(token_type_ids, dim=0)\n",
    "            attention_masks = th.cat(attention_masks, dim=0)\n",
    "            labels = th.tensor(y.values)\n",
    "            return TensorDataset(input_ids, attention_masks, token_type_ids, labels)\n",
    "        \n",
    "        self.train_ds = _prepare(self.x_train, self.y_train)\n",
    "        self.test_ds = _prepare(self.x_test, self.y_test)\n",
    "    \n",
    "    def train_dataloader(self):\n",
    "        return DataLoader(self.train_ds, sampler = RandomSampler(self.train_ds), \n",
    "                          batch_size = batch_size, pin_memory=True, \n",
    "                          num_workers=4)\n",
    "    \n",
    "    def val_dataloader(self):\n",
    "        return DataLoader(self.test_ds, batch_size=batch_size, \n",
    "                          sampler = RandomSampler(self.test_ds), \n",
    "                          pin_memory=True, num_workers=4)  \n",
    "    \n",
    "    def configure_optimizers(self):\n",
    "        return th.optim.SGD(\n",
    "            self.parameters(),\n",
    "            lr=lr,\n",
    "            momentum=momentum\n",
    "        )\n",
    "    \n",
    "    def training_step(self, batch, batch_idx):\n",
    "        input_ids, attention_masks, token_type_ids, labels = batch\n",
    "        logits = self.forward(input_ids, token_type_ids, attention_masks, labels)\n",
    "        loss = self.loss(logits, labels).mean()\n",
    "        return {'loss': loss, 'log': {'train_loss': loss}}\n",
    "\n",
    "    def validation_step(self, batch, batch_idx):\n",
    "        input_ids, attention_masks, token_type_ids, labels = batch\n",
    "        logits = self.forward(input_ids, token_type_ids, attention_masks, labels)\n",
    "        loss = self.loss(logits, labels)\n",
    "        acc = (logits.argmax(-1) == labels).float()\n",
    "        return {'loss': loss, 'acc': acc}\n",
    "\n",
    "    def validation_epoch_end(self, outputs):\n",
    "        loss = th.cat([o['loss'] for o in outputs], 0).mean()\n",
    "        acc = th.cat([o['acc'] for o in outputs], 0).mean()\n",
    "        out = {'val_loss': loss, 'val_acc': acc}\n",
    "        print(out)\n",
    "        return {**out, 'log':out}\n",
    "\n",
    "    \n",
    "    def forward(self, input_ids, token_type_ids, attention_masks, labels):\n",
    "        loss, logits = self.model(input_ids, token_type_ids=token_type_ids, \n",
    "                             attention_mask=attention_masks, \n",
    "                             labels=labels)\n",
    "        return logits\n",
    "    "
   ]
  },
  {
   "cell_type": "code",
   "execution_count": 17,
   "metadata": {
    "ExecuteTime": {
     "end_time": "2021-01-11T12:03:16.108872Z",
     "start_time": "2021-01-11T12:00:17.591069Z"
    }
   },
   "outputs": [
    {
     "name": "stderr",
     "output_type": "stream",
     "text": [
      "GPU available: True, used: False\n",
      "TPU available: False, using: 0 TPU cores\n",
      "\n",
      "  | Name  | Type                          | Params\n",
      "--------------------------------------------------------\n",
      "0 | model | BertForSequenceClassification | 109 M \n",
      "1 | loss  | CrossEntropyLoss              | 0     \n",
      "/home/moshe/anaconda3/lib/python3.7/site-packages/pytorch_lightning/utilities/distributed.py:25: UserWarning: Your val_dataloader has `shuffle=True`, it is best practice to turn this off for validation and test dataloaders.\n",
      "  warnings.warn(*args, **kwargs)\n"
     ]
    },
    {
     "data": {
      "application/vnd.jupyter.widget-view+json": {
       "model_id": "aa87e8a1d60d4a2e974a3bd829cf2ed8",
       "version_major": 2,
       "version_minor": 0
      },
      "text/plain": [
       "HBox(children=(FloatProgress(value=1.0, bar_style='info', description='Validation sanity check', layout=Layout…"
      ]
     },
     "metadata": {},
     "output_type": "display_data"
    },
    {
     "name": "stdout",
     "output_type": "stream",
     "text": [
      "{'val_loss': tensor(0.5278), 'val_acc': tensor(0.8000)}\n",
      "\r"
     ]
    },
    {
     "data": {
      "application/vnd.jupyter.widget-view+json": {
       "model_id": "4b5a702980de46dc8e9334a5d2797154",
       "version_major": 2,
       "version_minor": 0
      },
      "text/plain": [
       "HBox(children=(FloatProgress(value=1.0, bar_style='info', description='Training', layout=Layout(flex='2'), max…"
      ]
     },
     "metadata": {},
     "output_type": "display_data"
    },
    {
     "data": {
      "application/vnd.jupyter.widget-view+json": {
       "model_id": "",
       "version_major": 2,
       "version_minor": 0
      },
      "text/plain": [
       "HBox(children=(FloatProgress(value=1.0, bar_style='info', description='Validating', layout=Layout(flex='2'), m…"
      ]
     },
     "metadata": {},
     "output_type": "display_data"
    },
    {
     "name": "stdout",
     "output_type": "stream",
     "text": [
      "{'val_loss': tensor(4.6934), 'val_acc': tensor(0.2000)}\n"
     ]
    },
    {
     "data": {
      "application/vnd.jupyter.widget-view+json": {
       "model_id": "",
       "version_major": 2,
       "version_minor": 0
      },
      "text/plain": [
       "HBox(children=(FloatProgress(value=1.0, bar_style='info', description='Validating', layout=Layout(flex='2'), m…"
      ]
     },
     "metadata": {},
     "output_type": "display_data"
    },
    {
     "name": "stdout",
     "output_type": "stream",
     "text": [
      "{'val_loss': tensor(7.3063), 'val_acc': tensor(0.2000)}\n"
     ]
    },
    {
     "data": {
      "application/vnd.jupyter.widget-view+json": {
       "model_id": "",
       "version_major": 2,
       "version_minor": 0
      },
      "text/plain": [
       "HBox(children=(FloatProgress(value=1.0, bar_style='info', description='Validating', layout=Layout(flex='2'), m…"
      ]
     },
     "metadata": {},
     "output_type": "display_data"
    },
    {
     "name": "stdout",
     "output_type": "stream",
     "text": [
      "{'val_loss': tensor(7.4162), 'val_acc': tensor(0.2000)}\n"
     ]
    },
    {
     "data": {
      "application/vnd.jupyter.widget-view+json": {
       "model_id": "",
       "version_major": 2,
       "version_minor": 0
      },
      "text/plain": [
       "HBox(children=(FloatProgress(value=1.0, bar_style='info', description='Validating', layout=Layout(flex='2'), m…"
      ]
     },
     "metadata": {},
     "output_type": "display_data"
    },
    {
     "name": "stdout",
     "output_type": "stream",
     "text": [
      "{'val_loss': tensor(5.2698), 'val_acc': tensor(0.2000)}\n"
     ]
    },
    {
     "data": {
      "application/vnd.jupyter.widget-view+json": {
       "model_id": "",
       "version_major": 2,
       "version_minor": 0
      },
      "text/plain": [
       "HBox(children=(FloatProgress(value=1.0, bar_style='info', description='Validating', layout=Layout(flex='2'), m…"
      ]
     },
     "metadata": {},
     "output_type": "display_data"
    },
    {
     "name": "stdout",
     "output_type": "stream",
     "text": [
      "{'val_loss': tensor(1.7018), 'val_acc': tensor(0.2000)}\n",
      "\n"
     ]
    },
    {
     "data": {
      "text/plain": [
       "1"
      ]
     },
     "execution_count": 17,
     "metadata": {},
     "output_type": "execute_result"
    }
   ],
   "source": [
    "# (1 if th.cuda.is_available() else 0)\n",
    "\n",
    "model = QuoraQuestionSimilarity(X_train[:5], X_test[:5], y_train[:5], y_test[:5])\n",
    "trainer = pl.Trainer(\n",
    "    default_root_dir='logs',\n",
    "#     gpus=(1 if th.cuda.is_available() else 0),\n",
    "    gpus=0,\n",
    "    max_epochs=5,\n",
    "    logger=TensorBoardLogger('logs/', name='qqs', version=0)\n",
    ")\n",
    "trainer.fit(model)"
   ]
  }
 ],
 "metadata": {
  "kernelspec": {
   "display_name": "Python 3",
   "language": "python",
   "name": "python3"
  },
  "language_info": {
   "codemirror_mode": {
    "name": "ipython",
    "version": 3
   },
   "file_extension": ".py",
   "mimetype": "text/x-python",
   "name": "python",
   "nbconvert_exporter": "python",
   "pygments_lexer": "ipython3",
   "version": "3.7.6"
  }
 },
 "nbformat": 4,
 "nbformat_minor": 4
}
