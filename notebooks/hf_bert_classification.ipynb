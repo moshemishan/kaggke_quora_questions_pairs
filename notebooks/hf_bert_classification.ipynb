{
 "cells": [
  {
   "cell_type": "code",
   "execution_count": 41,
   "metadata": {
    "ExecuteTime": {
     "end_time": "2021-01-12T16:33:08.532046Z",
     "start_time": "2021-01-12T16:33:08.466291Z"
    }
   },
   "outputs": [],
   "source": [
    "import pandas as pd \n",
    "import tqdm\n",
    "import multiprocessing\n",
    "import sh\n",
    "\n",
    "import pytorch_lightning as pl\n",
    "import torch as th\n",
    "from pytorch_lightning.loggers import TensorBoardLogger\n",
    "from torch.utils.data import DataLoader, TensorDataset, RandomSampler\n",
    "\n",
    "import transformers\n",
    "\n",
    "from sklearn.model_selection import train_test_split"
   ]
  },
  {
   "cell_type": "code",
   "execution_count": 42,
   "metadata": {
    "ExecuteTime": {
     "end_time": "2021-01-12T16:33:08.537516Z",
     "start_time": "2021-01-12T16:33:08.534745Z"
    }
   },
   "outputs": [],
   "source": [
    "# th.cuda.get_device_name(0)\n",
    "# th.cuda.is_available()"
   ]
  },
  {
   "cell_type": "code",
   "execution_count": 43,
   "metadata": {
    "ExecuteTime": {
     "end_time": "2021-01-12T16:33:09.071410Z",
     "start_time": "2021-01-12T16:33:08.541226Z"
    }
   },
   "outputs": [
    {
     "data": {
      "text/plain": []
     },
     "execution_count": 43,
     "metadata": {},
     "output_type": "execute_result"
    }
   ],
   "source": [
    "sh.rm('-r', '-f', 'logs')\n",
    "sh.mkdir('logs')"
   ]
  },
  {
   "cell_type": "code",
   "execution_count": 44,
   "metadata": {
    "ExecuteTime": {
     "end_time": "2021-01-12T16:33:09.078799Z",
     "start_time": "2021-01-12T16:33:09.074536Z"
    }
   },
   "outputs": [],
   "source": [
    "model_name = 'bert-base-uncased'\n",
    "batch_size = 8\n",
    "lr = 1e-2\n",
    "eps = 1e-8"
   ]
  },
  {
   "cell_type": "code",
   "execution_count": 45,
   "metadata": {
    "ExecuteTime": {
     "end_time": "2021-01-12T16:33:10.676213Z",
     "start_time": "2021-01-12T16:33:09.081101Z"
    }
   },
   "outputs": [],
   "source": [
    "df = pd.read_csv('../data/train.csv', index_col='id')"
   ]
  },
  {
   "cell_type": "code",
   "execution_count": 46,
   "metadata": {
    "ExecuteTime": {
     "end_time": "2021-01-12T16:33:10.696906Z",
     "start_time": "2021-01-12T16:33:10.678499Z"
    }
   },
   "outputs": [
    {
     "data": {
      "text/html": [
       "<div>\n",
       "<style scoped>\n",
       "    .dataframe tbody tr th:only-of-type {\n",
       "        vertical-align: middle;\n",
       "    }\n",
       "\n",
       "    .dataframe tbody tr th {\n",
       "        vertical-align: top;\n",
       "    }\n",
       "\n",
       "    .dataframe thead th {\n",
       "        text-align: right;\n",
       "    }\n",
       "</style>\n",
       "<table border=\"1\" class=\"dataframe\">\n",
       "  <thead>\n",
       "    <tr style=\"text-align: right;\">\n",
       "      <th></th>\n",
       "      <th>qid1</th>\n",
       "      <th>qid2</th>\n",
       "      <th>question1</th>\n",
       "      <th>question2</th>\n",
       "      <th>is_duplicate</th>\n",
       "    </tr>\n",
       "    <tr>\n",
       "      <th>id</th>\n",
       "      <th></th>\n",
       "      <th></th>\n",
       "      <th></th>\n",
       "      <th></th>\n",
       "      <th></th>\n",
       "    </tr>\n",
       "  </thead>\n",
       "  <tbody>\n",
       "    <tr>\n",
       "      <th>0</th>\n",
       "      <td>1</td>\n",
       "      <td>2</td>\n",
       "      <td>What is the step by step guide to invest in sh...</td>\n",
       "      <td>What is the step by step guide to invest in sh...</td>\n",
       "      <td>0</td>\n",
       "    </tr>\n",
       "    <tr>\n",
       "      <th>1</th>\n",
       "      <td>3</td>\n",
       "      <td>4</td>\n",
       "      <td>What is the story of Kohinoor (Koh-i-Noor) Dia...</td>\n",
       "      <td>What would happen if the Indian government sto...</td>\n",
       "      <td>0</td>\n",
       "    </tr>\n",
       "    <tr>\n",
       "      <th>2</th>\n",
       "      <td>5</td>\n",
       "      <td>6</td>\n",
       "      <td>How can I increase the speed of my internet co...</td>\n",
       "      <td>How can Internet speed be increased by hacking...</td>\n",
       "      <td>0</td>\n",
       "    </tr>\n",
       "    <tr>\n",
       "      <th>3</th>\n",
       "      <td>7</td>\n",
       "      <td>8</td>\n",
       "      <td>Why am I mentally very lonely? How can I solve...</td>\n",
       "      <td>Find the remainder when [math]23^{24}[/math] i...</td>\n",
       "      <td>0</td>\n",
       "    </tr>\n",
       "    <tr>\n",
       "      <th>4</th>\n",
       "      <td>9</td>\n",
       "      <td>10</td>\n",
       "      <td>Which one dissolve in water quikly sugar, salt...</td>\n",
       "      <td>Which fish would survive in salt water?</td>\n",
       "      <td>0</td>\n",
       "    </tr>\n",
       "  </tbody>\n",
       "</table>\n",
       "</div>"
      ],
      "text/plain": [
       "    qid1  qid2                                          question1  \\\n",
       "id                                                                  \n",
       "0      1     2  What is the step by step guide to invest in sh...   \n",
       "1      3     4  What is the story of Kohinoor (Koh-i-Noor) Dia...   \n",
       "2      5     6  How can I increase the speed of my internet co...   \n",
       "3      7     8  Why am I mentally very lonely? How can I solve...   \n",
       "4      9    10  Which one dissolve in water quikly sugar, salt...   \n",
       "\n",
       "                                            question2  is_duplicate  \n",
       "id                                                                   \n",
       "0   What is the step by step guide to invest in sh...             0  \n",
       "1   What would happen if the Indian government sto...             0  \n",
       "2   How can Internet speed be increased by hacking...             0  \n",
       "3   Find the remainder when [math]23^{24}[/math] i...             0  \n",
       "4             Which fish would survive in salt water?             0  "
      ]
     },
     "execution_count": 46,
     "metadata": {},
     "output_type": "execute_result"
    }
   ],
   "source": [
    "df.head()"
   ]
  },
  {
   "cell_type": "code",
   "execution_count": 47,
   "metadata": {
    "ExecuteTime": {
     "end_time": "2021-01-12T16:33:10.834166Z",
     "start_time": "2021-01-12T16:33:10.699486Z"
    }
   },
   "outputs": [],
   "source": [
    "df.dropna(inplace=True)"
   ]
  },
  {
   "cell_type": "code",
   "execution_count": 48,
   "metadata": {
    "ExecuteTime": {
     "end_time": "2021-01-12T16:33:10.922066Z",
     "start_time": "2021-01-12T16:33:10.837921Z"
    }
   },
   "outputs": [
    {
     "data": {
      "text/plain": [
       "qid1            404287\n",
       "qid2            404287\n",
       "question1       404287\n",
       "question2       404287\n",
       "is_duplicate    404287\n",
       "dtype: int64"
      ]
     },
     "execution_count": 48,
     "metadata": {},
     "output_type": "execute_result"
    }
   ],
   "source": [
    "df.count()"
   ]
  },
  {
   "cell_type": "code",
   "execution_count": 49,
   "metadata": {
    "ExecuteTime": {
     "end_time": "2021-01-12T16:33:10.927949Z",
     "start_time": "2021-01-12T16:33:10.924810Z"
    }
   },
   "outputs": [],
   "source": [
    "# tokenizer = transformers.BertTokenizer.from_pretrained(model)\n",
    "# tokenize = lambda x: tokenizer.tokenize(x)"
   ]
  },
  {
   "cell_type": "code",
   "execution_count": 50,
   "metadata": {
    "ExecuteTime": {
     "end_time": "2021-01-12T16:33:10.932919Z",
     "start_time": "2021-01-12T16:33:10.930401Z"
    }
   },
   "outputs": [],
   "source": [
    "# df['q1_len'] = df['question1'].apply(lambda x: len(tokenize(x)))\n",
    "# df['q2_len'] = df['question2'].apply(lambda x: len(tokenize(x)))"
   ]
  },
  {
   "cell_type": "code",
   "execution_count": 51,
   "metadata": {
    "ExecuteTime": {
     "end_time": "2021-01-12T16:33:10.937741Z",
     "start_time": "2021-01-12T16:33:10.934758Z"
    }
   },
   "outputs": [],
   "source": [
    "# df['join_length'] = df['q1_len'] + df['q2_len']"
   ]
  },
  {
   "cell_type": "code",
   "execution_count": 52,
   "metadata": {
    "ExecuteTime": {
     "end_time": "2021-01-12T16:33:10.944402Z",
     "start_time": "2021-01-12T16:33:10.939862Z"
    }
   },
   "outputs": [],
   "source": [
    "# max_length = df['join_length'].max()"
   ]
  },
  {
   "cell_type": "code",
   "execution_count": 53,
   "metadata": {
    "ExecuteTime": {
     "end_time": "2021-01-12T16:33:11.000053Z",
     "start_time": "2021-01-12T16:33:10.948061Z"
    }
   },
   "outputs": [],
   "source": [
    "df = df.sample(frac=0.05, replace=False, random_state=1)"
   ]
  },
  {
   "cell_type": "code",
   "execution_count": 74,
   "metadata": {
    "ExecuteTime": {
     "end_time": "2021-01-12T17:02:23.984734Z",
     "start_time": "2021-01-12T17:02:23.900442Z"
    }
   },
   "outputs": [],
   "source": [
    "class QuoraQuestionSimilarity(pl.LightningModule):\n",
    "    def __init__(self, X, y):\n",
    "        super().__init__()\n",
    "        self.x = X\n",
    "        self.y = y \n",
    "        self.model = transformers.BertForSequenceClassification.from_pretrained(model_name)\n",
    "#         self.loss = th.nn.CrossEntropyLoss(reduction='none')\n",
    "        \n",
    "    def prepare_data(self):\n",
    "        tokenizer = tokenizer = transformers.BertTokenizer.from_pretrained(model_name, num_labels=2)\n",
    "        \n",
    "        def _split_ds():\n",
    "            self.x_train, self.x_val, self.y_train, self.y_val = train_test_split(self.x, self.y, test_size=0.2)\n",
    "            self.x_train, self.x_test, self.y_train, self.y_test = train_test_split(self.x_train, self.y_train, test_size=0.25)\n",
    "    \n",
    "        def _tokenize(x):\n",
    "            return tokenizer.encode_plus(x['question1'], x['question2'], \n",
    "                                         max_length=330, pad_to_max_length=True,\n",
    "                                         return_attention_mask=True, return_tensors='pt', \n",
    "                                         truncation=True)\n",
    "        \n",
    "        def _prepare(x, y):\n",
    "            input_ids = []\n",
    "            attention_masks = []\n",
    "            token_type_ids = []\n",
    "            for _, row in x.iterrows():\n",
    "                encoded_data = _tokenize(row)\n",
    "                input_ids.append(encoded_data['input_ids'])\n",
    "                token_type_ids.append(encoded_data[\"token_type_ids\"])\n",
    "                attention_masks.append(encoded_data['attention_mask'])\n",
    "                \n",
    "            input_ids = th.cat(input_ids, dim=0)\n",
    "            token_type_ids = th.cat(token_type_ids, dim=0)\n",
    "            attention_masks = th.cat(attention_masks, dim=0)\n",
    "            labels = th.tensor(y.values)\n",
    "            return TensorDataset(input_ids, attention_masks, token_type_ids, labels)\n",
    "        \n",
    "        _split_ds()\n",
    "        self.train_ds = _prepare(self.x_train, self.y_train)\n",
    "        self.val_ds = _prepare(self.x_val, self.y_val)\n",
    "        self.test_ds = _prepare(self.x_test, self.y_test)\n",
    "    \n",
    "    def train_dataloader(self):\n",
    "        return DataLoader(self.train_ds, sampler = RandomSampler(self.train_ds), \n",
    "                          batch_size = batch_size, pin_memory=True, \n",
    "                          num_workers=4)\n",
    "    \n",
    "    def val_dataloader(self):\n",
    "        return DataLoader(self.val_ds, batch_size=batch_size, \n",
    "                          sampler = RandomSampler(self.test_ds), \n",
    "                          pin_memory=True, num_workers=4)  \n",
    "    \n",
    "    def test_dataloader(self):\n",
    "        return DataLoader(self.test_ds, batch_size=batch_size, \n",
    "                          sampler = RandomSampler(self.test_ds), \n",
    "                          pin_memory=True, num_workers=4)\n",
    "    \n",
    "    def configure_optimizers(self):\n",
    "        return th.optim.AdamW(\n",
    "            self.parameters(),\n",
    "            lr=lr,\n",
    "            eps = eps\n",
    "        )\n",
    "    \n",
    "    def training_step(self, batch, batch_idx):\n",
    "        input_ids, attention_masks, token_type_ids, labels = batch\n",
    "        loss, logits = self.forward(input_ids, token_type_ids, attention_masks, labels)\n",
    "        return {'loss': loss, 'log': {'train_loss': loss}}\n",
    "\n",
    "    def validation_step(self, batch, batch_idx):\n",
    "        input_ids, attention_masks, token_type_ids, labels = batch\n",
    "        loss, logits = self.forward(input_ids, token_type_ids, attention_masks, labels)\n",
    "        labels_hat = th.argmax(logits, dim=1)\n",
    "        hit_rate = th.sum(labels == labels_hat)\n",
    "        return {'loss': loss, 'hit_rate': hit_rate}\n",
    "    \n",
    "    def test_step(self, batch, batch_idx):\n",
    "        input_ids, attention_masks, token_type_ids, labels = batch\n",
    "        loss, logits = self.forward(input_ids, token_type_ids, attention_masks, labels)\n",
    "        labels_hat = th.argmax(logits, dim=1)\n",
    "        hit_rate = th.sum(labels == labels_hat)\n",
    "        return {'test_loss': loss, 'test_hit_rate': hit_rate}\n",
    "        \n",
    "    def validation_epoch_end(self, outputs):\n",
    "        loss = th.mean(th.stack([o['loss'].float() for o in outputs]))\n",
    "        acc = th.mean(th.stack([o['hit_rate'].float() for o in outputs]))\n",
    "        out = {'val_loss': loss, 'val_acc': acc}\n",
    "        return {**out, 'log':out}\n",
    "    \n",
    "    def test_epoch_end(self, outputs):\n",
    "        loss = th.mean(th.stack([o['loss'].float() for o in outputs]))\n",
    "        acc = th.mean(th.stack([o['hit_rate'].float() for o in outputs]))\n",
    "        out = {'val_loss': loss, 'val_acc': acc}\n",
    "        return {**out, 'log':out}\n",
    "\n",
    "    \n",
    "    def forward(self, input_ids, token_type_ids, attention_masks, labels):\n",
    "        loss, logits = self.model(input_ids, token_type_ids=token_type_ids, \n",
    "                             attention_mask=attention_masks, \n",
    "                             labels=labels)\n",
    "        return loss, logits\n",
    "    "
   ]
  },
  {
   "cell_type": "code",
   "execution_count": 76,
   "metadata": {
    "ExecuteTime": {
     "end_time": "2021-01-12T17:04:40.277720Z",
     "start_time": "2021-01-12T17:03:51.413629Z"
    }
   },
   "outputs": [
    {
     "name": "stderr",
     "output_type": "stream",
     "text": [
      "GPU available: True, used: False\n",
      "TPU available: False, using: 0 TPU cores\n",
      "\n",
      "  | Name  | Type                          | Params\n",
      "--------------------------------------------------------\n",
      "0 | model | BertForSequenceClassification | 109 M \n",
      "/home/moshe/anaconda3/lib/python3.7/site-packages/pytorch_lightning/utilities/distributed.py:25: UserWarning: Your val_dataloader has `shuffle=True`, it is best practice to turn this off for validation and test dataloaders.\n",
      "  warnings.warn(*args, **kwargs)\n"
     ]
    },
    {
     "data": {
      "application/vnd.jupyter.widget-view+json": {
       "model_id": "",
       "version_major": 2,
       "version_minor": 0
      },
      "text/plain": [
       "HBox(children=(FloatProgress(value=1.0, bar_style='info', description='Validation sanity check', layout=Layout…"
      ]
     },
     "metadata": {},
     "output_type": "display_data"
    },
    {
     "name": "stdout",
     "output_type": "stream",
     "text": [
      "[{'loss': tensor(1.2091), 'hit_rate': tensor(2)}, {'loss': tensor(0.2464), 'hit_rate': tensor(2)}]\n",
      "{'val_loss': tensor(0.7277), 'val_acc': tensor(2.)}\n",
      "\r"
     ]
    },
    {
     "data": {
      "application/vnd.jupyter.widget-view+json": {
       "model_id": "075649370ba84c45a1373703cae0f0b2",
       "version_major": 2,
       "version_minor": 0
      },
      "text/plain": [
       "HBox(children=(FloatProgress(value=1.0, bar_style='info', description='Training', layout=Layout(flex='2'), max…"
      ]
     },
     "metadata": {},
     "output_type": "display_data"
    },
    {
     "name": "stdout",
     "output_type": "stream",
     "text": [
      "\n"
     ]
    },
    {
     "name": "stderr",
     "output_type": "stream",
     "text": [
      "/home/moshe/anaconda3/lib/python3.7/site-packages/pytorch_lightning/utilities/distributed.py:25: UserWarning: Detected KeyboardInterrupt, attempting graceful shutdown...\n",
      "  warnings.warn(*args, **kwargs)\n"
     ]
    },
    {
     "data": {
      "text/plain": [
       "1"
      ]
     },
     "execution_count": 76,
     "metadata": {},
     "output_type": "execute_result"
    }
   ],
   "source": [
    "# (1 if th.cuda.is_available() else 0)\n",
    "X = df[['question1', 'question2']]\n",
    "y = df['is_duplicate']\n",
    "\n",
    "model = QuoraQuestionSimilarity(X, y)\n",
    "trainer = pl.Trainer(\n",
    "    default_root_dir='logs',\n",
    "#     gpus=(1 if th.cuda.is_available() else 0),\n",
    "    gpus=0,\n",
    "    max_epochs=2,\n",
    "    logger=TensorBoardLogger('logs/', name='qqs', version=0)\n",
    ")\n",
    "trainer.fit(model)"
   ]
  }
 ],
 "metadata": {
  "kernelspec": {
   "display_name": "Python 3",
   "language": "python",
   "name": "python3"
  },
  "language_info": {
   "codemirror_mode": {
    "name": "ipython",
    "version": 3
   },
   "file_extension": ".py",
   "mimetype": "text/x-python",
   "name": "python",
   "nbconvert_exporter": "python",
   "pygments_lexer": "ipython3",
   "version": "3.7.6"
  }
 },
 "nbformat": 4,
 "nbformat_minor": 4
}
