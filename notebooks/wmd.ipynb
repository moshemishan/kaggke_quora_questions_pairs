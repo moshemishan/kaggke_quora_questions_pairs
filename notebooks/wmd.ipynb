{
 "cells": [
  {
   "cell_type": "code",
   "execution_count": 4,
   "metadata": {
    "ExecuteTime": {
     "end_time": "2021-01-04T16:11:04.312943Z",
     "start_time": "2021-01-04T16:11:04.308510Z"
    }
   },
   "outputs": [],
   "source": [
    "import pandas as pd \n",
    "import numpy as np\n",
    "from gensim.models import KeyedVectors\n",
    "import matplotlib.pyplot as plt\n",
    "import seaborn as sns\n",
    "from nltk.corpus import stopwords\n",
    "from nltk import download"
   ]
  },
  {
   "cell_type": "code",
   "execution_count": 5,
   "metadata": {
    "ExecuteTime": {
     "end_time": "2021-01-04T16:11:04.323540Z",
     "start_time": "2021-01-04T16:11:04.314957Z"
    }
   },
   "outputs": [],
   "source": [
    "# download('stopwords')\n",
    "stop_words = stopwords.words('english')"
   ]
  },
  {
   "cell_type": "code",
   "execution_count": 6,
   "metadata": {
    "ExecuteTime": {
     "end_time": "2021-01-04T16:11:05.642808Z",
     "start_time": "2021-01-04T16:11:04.326004Z"
    }
   },
   "outputs": [],
   "source": [
    "df = pd.read_csv('../data/train.csv')"
   ]
  },
  {
   "cell_type": "code",
   "execution_count": 7,
   "metadata": {
    "ExecuteTime": {
     "end_time": "2021-01-04T16:11:05.673012Z",
     "start_time": "2021-01-04T16:11:05.646120Z"
    }
   },
   "outputs": [
    {
     "data": {
      "text/html": [
       "<div>\n",
       "<style scoped>\n",
       "    .dataframe tbody tr th:only-of-type {\n",
       "        vertical-align: middle;\n",
       "    }\n",
       "\n",
       "    .dataframe tbody tr th {\n",
       "        vertical-align: top;\n",
       "    }\n",
       "\n",
       "    .dataframe thead th {\n",
       "        text-align: right;\n",
       "    }\n",
       "</style>\n",
       "<table border=\"1\" class=\"dataframe\">\n",
       "  <thead>\n",
       "    <tr style=\"text-align: right;\">\n",
       "      <th></th>\n",
       "      <th>id</th>\n",
       "      <th>qid1</th>\n",
       "      <th>qid2</th>\n",
       "      <th>question1</th>\n",
       "      <th>question2</th>\n",
       "      <th>is_duplicate</th>\n",
       "    </tr>\n",
       "  </thead>\n",
       "  <tbody>\n",
       "    <tr>\n",
       "      <th>0</th>\n",
       "      <td>0</td>\n",
       "      <td>1</td>\n",
       "      <td>2</td>\n",
       "      <td>What is the step by step guide to invest in sh...</td>\n",
       "      <td>What is the step by step guide to invest in sh...</td>\n",
       "      <td>0</td>\n",
       "    </tr>\n",
       "    <tr>\n",
       "      <th>1</th>\n",
       "      <td>1</td>\n",
       "      <td>3</td>\n",
       "      <td>4</td>\n",
       "      <td>What is the story of Kohinoor (Koh-i-Noor) Dia...</td>\n",
       "      <td>What would happen if the Indian government sto...</td>\n",
       "      <td>0</td>\n",
       "    </tr>\n",
       "    <tr>\n",
       "      <th>2</th>\n",
       "      <td>2</td>\n",
       "      <td>5</td>\n",
       "      <td>6</td>\n",
       "      <td>How can I increase the speed of my internet co...</td>\n",
       "      <td>How can Internet speed be increased by hacking...</td>\n",
       "      <td>0</td>\n",
       "    </tr>\n",
       "    <tr>\n",
       "      <th>3</th>\n",
       "      <td>3</td>\n",
       "      <td>7</td>\n",
       "      <td>8</td>\n",
       "      <td>Why am I mentally very lonely? How can I solve...</td>\n",
       "      <td>Find the remainder when [math]23^{24}[/math] i...</td>\n",
       "      <td>0</td>\n",
       "    </tr>\n",
       "    <tr>\n",
       "      <th>4</th>\n",
       "      <td>4</td>\n",
       "      <td>9</td>\n",
       "      <td>10</td>\n",
       "      <td>Which one dissolve in water quikly sugar, salt...</td>\n",
       "      <td>Which fish would survive in salt water?</td>\n",
       "      <td>0</td>\n",
       "    </tr>\n",
       "  </tbody>\n",
       "</table>\n",
       "</div>"
      ],
      "text/plain": [
       "   id  qid1  qid2                                          question1  \\\n",
       "0   0     1     2  What is the step by step guide to invest in sh...   \n",
       "1   1     3     4  What is the story of Kohinoor (Koh-i-Noor) Dia...   \n",
       "2   2     5     6  How can I increase the speed of my internet co...   \n",
       "3   3     7     8  Why am I mentally very lonely? How can I solve...   \n",
       "4   4     9    10  Which one dissolve in water quikly sugar, salt...   \n",
       "\n",
       "                                           question2  is_duplicate  \n",
       "0  What is the step by step guide to invest in sh...             0  \n",
       "1  What would happen if the Indian government sto...             0  \n",
       "2  How can Internet speed be increased by hacking...             0  \n",
       "3  Find the remainder when [math]23^{24}[/math] i...             0  \n",
       "4            Which fish would survive in salt water?             0  "
      ]
     },
     "execution_count": 7,
     "metadata": {},
     "output_type": "execute_result"
    }
   ],
   "source": [
    "df.head()"
   ]
  },
  {
   "cell_type": "code",
   "execution_count": 8,
   "metadata": {
    "ExecuteTime": {
     "end_time": "2021-01-04T16:11:05.801620Z",
     "start_time": "2021-01-04T16:11:05.675368Z"
    }
   },
   "outputs": [],
   "source": [
    "df = df.dropna()"
   ]
  },
  {
   "cell_type": "code",
   "execution_count": 9,
   "metadata": {
    "ExecuteTime": {
     "end_time": "2021-01-04T16:11:05.864458Z",
     "start_time": "2021-01-04T16:11:05.803680Z"
    }
   },
   "outputs": [
    {
     "data": {
      "text/plain": [
       "id              404287\n",
       "qid1            404287\n",
       "qid2            404287\n",
       "question1       404287\n",
       "question2       404287\n",
       "is_duplicate    404287\n",
       "dtype: int64"
      ]
     },
     "execution_count": 9,
     "metadata": {},
     "output_type": "execute_result"
    }
   ],
   "source": [
    "df.count()"
   ]
  },
  {
   "cell_type": "code",
   "execution_count": 10,
   "metadata": {
    "ExecuteTime": {
     "end_time": "2021-01-04T16:12:04.431747Z",
     "start_time": "2021-01-04T16:11:05.867160Z"
    }
   },
   "outputs": [],
   "source": [
    "model = KeyedVectors.load_word2vec_format('../../pretrained_models/GoogleNews-vectors-negative300.bin.gz', binary=True)"
   ]
  },
  {
   "cell_type": "code",
   "execution_count": 11,
   "metadata": {
    "ExecuteTime": {
     "end_time": "2021-01-04T16:12:04.445443Z",
     "start_time": "2021-01-04T16:12:04.438282Z"
    }
   },
   "outputs": [],
   "source": [
    "def preprocess(sentence):\n",
    "    return [w for w in sentence.lower().split() if w not in stop_words]\n",
    "\n",
    "def wmd(row):\n",
    "    q1 = preprocess(row['question1'])\n",
    "    q2 = preprocess(row['question2'])\n",
    "    return model.wmdistance(q1, q2)"
   ]
  },
  {
   "cell_type": "code",
   "execution_count": 12,
   "metadata": {
    "ExecuteTime": {
     "end_time": "2021-01-04T16:18:24.634952Z",
     "start_time": "2021-01-04T16:12:04.448020Z"
    }
   },
   "outputs": [],
   "source": [
    "df['wmd'] = df.apply(wmd, axis=1)"
   ]
  },
  {
   "cell_type": "code",
   "execution_count": 13,
   "metadata": {
    "ExecuteTime": {
     "end_time": "2021-01-04T16:18:25.418551Z",
     "start_time": "2021-01-04T16:18:24.636941Z"
    }
   },
   "outputs": [],
   "source": [
    "inf_df = df[(df == np.inf).any(axis=1)]\n",
    "non_inf_df = df[~df.isin([np.inf, -np.inf]).any(1)]"
   ]
  },
  {
   "cell_type": "code",
   "execution_count": 14,
   "metadata": {
    "ExecuteTime": {
     "end_time": "2021-01-04T16:18:25.455438Z",
     "start_time": "2021-01-04T16:18:25.420781Z"
    }
   },
   "outputs": [
    {
     "data": {
      "text/plain": [
       "count    393327.000000\n",
       "mean          2.008018\n",
       "std           1.087942\n",
       "min           0.000000\n",
       "25%           1.274682\n",
       "50%           2.025405\n",
       "75%           2.801772\n",
       "max           6.943244\n",
       "Name: wmd, dtype: float64"
      ]
     },
     "execution_count": 14,
     "metadata": {},
     "output_type": "execute_result"
    }
   ],
   "source": [
    "non_inf_df['wmd'].describe()"
   ]
  },
  {
   "cell_type": "code",
   "execution_count": 15,
   "metadata": {
    "ExecuteTime": {
     "end_time": "2021-01-04T16:18:25.505736Z",
     "start_time": "2021-01-04T16:18:25.457625Z"
    }
   },
   "outputs": [],
   "source": [
    "duplicates_df = non_inf_df[non_inf_df['is_duplicate']==1]\n",
    "non__duplicates_df = non_inf_df[non_inf_df['is_duplicate']==0]"
   ]
  },
  {
   "cell_type": "code",
   "execution_count": 16,
   "metadata": {
    "ExecuteTime": {
     "end_time": "2021-01-04T16:18:26.351851Z",
     "start_time": "2021-01-04T16:18:25.507756Z"
    }
   },
   "outputs": [
    {
     "data": {
      "image/png": "[encoded data removed]",
      "text/plain": [
       "<Figure size 720x432 with 1 Axes>"
      ]
     },
     "metadata": {
      "needs_background": "light"
     },
     "output_type": "display_data"
    }
   ],
   "source": [
    "fig = plt.figure(figsize=(10,6))\n",
    "\n",
    "sns.distplot(duplicates_df['wmd'])\n",
    "sns.distplot(non__duplicates_df['wmd'])\n",
    "fig.legend(labels=['duplicates','non duplicates']);"
   ]
  },
  {
   "cell_type": "code",
   "execution_count": 17,
   "metadata": {
    "ExecuteTime": {
     "end_time": "2021-01-04T16:18:26.375467Z",
     "start_time": "2021-01-04T16:18:26.353853Z"
    }
   },
   "outputs": [
    {
     "data": {
      "text/plain": [
       "count    246547.000000\n",
       "mean          2.307973\n",
       "std           1.107585\n",
       "min           0.000000\n",
       "25%           1.619374\n",
       "50%           2.446790\n",
       "75%           3.155591\n",
       "max           6.943244\n",
       "Name: wmd, dtype: float64"
      ]
     },
     "execution_count": 17,
     "metadata": {},
     "output_type": "execute_result"
    }
   ],
   "source": [
    "non__duplicates_df['wmd'].describe()"
   ]
  },
  {
   "cell_type": "code",
   "execution_count": 18,
   "metadata": {
    "ExecuteTime": {
     "end_time": "2021-01-04T16:18:26.393281Z",
     "start_time": "2021-01-04T16:18:26.377452Z"
    }
   },
   "outputs": [
    {
     "data": {
      "text/plain": [
       "count    146780.000000\n",
       "mean          1.504182\n",
       "std           0.840361\n",
       "min           0.000000\n",
       "25%           1.002534\n",
       "50%           1.580328\n",
       "75%           2.058633\n",
       "max           5.708485\n",
       "Name: wmd, dtype: float64"
      ]
     },
     "execution_count": 18,
     "metadata": {},
     "output_type": "execute_result"
    }
   ],
   "source": [
    "duplicates_df['wmd'].describe()"
   ]
  },
  {
   "cell_type": "code",
   "execution_count": 19,
   "metadata": {
    "ExecuteTime": {
     "end_time": "2021-01-04T16:18:26.420115Z",
     "start_time": "2021-01-04T16:18:26.395154Z"
    }
   },
   "outputs": [
    {
     "data": {
      "text/html": [
       "<div>\n",
       "<style scoped>\n",
       "    .dataframe tbody tr th:only-of-type {\n",
       "        vertical-align: middle;\n",
       "    }\n",
       "\n",
       "    .dataframe tbody tr th {\n",
       "        vertical-align: top;\n",
       "    }\n",
       "\n",
       "    .dataframe thead th {\n",
       "        text-align: right;\n",
       "    }\n",
       "</style>\n",
       "<table border=\"1\" class=\"dataframe\">\n",
       "  <thead>\n",
       "    <tr style=\"text-align: right;\">\n",
       "      <th></th>\n",
       "      <th>id</th>\n",
       "      <th>qid1</th>\n",
       "      <th>qid2</th>\n",
       "      <th>question1</th>\n",
       "      <th>question2</th>\n",
       "      <th>is_duplicate</th>\n",
       "      <th>wmd</th>\n",
       "    </tr>\n",
       "  </thead>\n",
       "  <tbody>\n",
       "    <tr>\n",
       "      <th>8</th>\n",
       "      <td>8</td>\n",
       "      <td>17</td>\n",
       "      <td>18</td>\n",
       "      <td>When do you use シ instead of し?</td>\n",
       "      <td>When do you use \"&amp;\" instead of \"and\"?</td>\n",
       "      <td>0</td>\n",
       "      <td>0.0</td>\n",
       "    </tr>\n",
       "    <tr>\n",
       "      <th>14</th>\n",
       "      <td>14</td>\n",
       "      <td>29</td>\n",
       "      <td>30</td>\n",
       "      <td>What are the laws to change your status from a...</td>\n",
       "      <td>What are the laws to change your status from a...</td>\n",
       "      <td>0</td>\n",
       "      <td>0.0</td>\n",
       "    </tr>\n",
       "    <tr>\n",
       "      <th>41</th>\n",
       "      <td>41</td>\n",
       "      <td>83</td>\n",
       "      <td>84</td>\n",
       "      <td>When can I expect my Cognizant confirmation mail?</td>\n",
       "      <td>When can I expect Cognizant confirmation mail?</td>\n",
       "      <td>0</td>\n",
       "      <td>0.0</td>\n",
       "    </tr>\n",
       "    <tr>\n",
       "      <th>42</th>\n",
       "      <td>42</td>\n",
       "      <td>85</td>\n",
       "      <td>86</td>\n",
       "      <td>Can I make 50,000 a month by day trading?</td>\n",
       "      <td>Can I make 30,000 a month by day trading?</td>\n",
       "      <td>0</td>\n",
       "      <td>0.0</td>\n",
       "    </tr>\n",
       "    <tr>\n",
       "      <th>89</th>\n",
       "      <td>89</td>\n",
       "      <td>179</td>\n",
       "      <td>180</td>\n",
       "      <td>What is your review of The Next Warrior: Provi...</td>\n",
       "      <td>What is your review of The Next Warrior: Provi...</td>\n",
       "      <td>0</td>\n",
       "      <td>0.0</td>\n",
       "    </tr>\n",
       "    <tr>\n",
       "      <th>...</th>\n",
       "      <td>...</td>\n",
       "      <td>...</td>\n",
       "      <td>...</td>\n",
       "      <td>...</td>\n",
       "      <td>...</td>\n",
       "      <td>...</td>\n",
       "      <td>...</td>\n",
       "    </tr>\n",
       "    <tr>\n",
       "      <th>404194</th>\n",
       "      <td>404194</td>\n",
       "      <td>6470</td>\n",
       "      <td>167204</td>\n",
       "      <td>How do the tourist attractions on the Scandina...</td>\n",
       "      <td>How do the tourist attractions on the Scandina...</td>\n",
       "      <td>0</td>\n",
       "      <td>0.0</td>\n",
       "    </tr>\n",
       "    <tr>\n",
       "      <th>404207</th>\n",
       "      <td>404207</td>\n",
       "      <td>537857</td>\n",
       "      <td>410771</td>\n",
       "      <td>Is it safe to drink tap water in Canada?</td>\n",
       "      <td>Is it safe to drink tap water in Pune?</td>\n",
       "      <td>0</td>\n",
       "      <td>0.0</td>\n",
       "    </tr>\n",
       "    <tr>\n",
       "      <th>404252</th>\n",
       "      <td>404252</td>\n",
       "      <td>537898</td>\n",
       "      <td>148779</td>\n",
       "      <td>What is the best free web hosting for php?</td>\n",
       "      <td>What are the best free web hosting services?</td>\n",
       "      <td>0</td>\n",
       "      <td>0.0</td>\n",
       "    </tr>\n",
       "    <tr>\n",
       "      <th>404270</th>\n",
       "      <td>404270</td>\n",
       "      <td>537912</td>\n",
       "      <td>35364</td>\n",
       "      <td>What is the difference between who and how?</td>\n",
       "      <td>What is the difference between \"&amp;\" and \"and\"?</td>\n",
       "      <td>0</td>\n",
       "      <td>0.0</td>\n",
       "    </tr>\n",
       "    <tr>\n",
       "      <th>404289</th>\n",
       "      <td>404289</td>\n",
       "      <td>537932</td>\n",
       "      <td>537933</td>\n",
       "      <td>What is like to have sex with cousin?</td>\n",
       "      <td>What is it like to have sex with your cousin?</td>\n",
       "      <td>0</td>\n",
       "      <td>0.0</td>\n",
       "    </tr>\n",
       "  </tbody>\n",
       "</table>\n",
       "<p>18565 rows × 7 columns</p>\n",
       "</div>"
      ],
      "text/plain": [
       "            id    qid1    qid2  \\\n",
       "8            8      17      18   \n",
       "14          14      29      30   \n",
       "41          41      83      84   \n",
       "42          42      85      86   \n",
       "89          89     179     180   \n",
       "...        ...     ...     ...   \n",
       "404194  404194    6470  167204   \n",
       "404207  404207  537857  410771   \n",
       "404252  404252  537898  148779   \n",
       "404270  404270  537912   35364   \n",
       "404289  404289  537932  537933   \n",
       "\n",
       "                                                question1  \\\n",
       "8                         When do you use シ instead of し?   \n",
       "14      What are the laws to change your status from a...   \n",
       "41      When can I expect my Cognizant confirmation mail?   \n",
       "42              Can I make 50,000 a month by day trading?   \n",
       "89      What is your review of The Next Warrior: Provi...   \n",
       "...                                                   ...   \n",
       "404194  How do the tourist attractions on the Scandina...   \n",
       "404207           Is it safe to drink tap water in Canada?   \n",
       "404252         What is the best free web hosting for php?   \n",
       "404270        What is the difference between who and how?   \n",
       "404289              What is like to have sex with cousin?   \n",
       "\n",
       "                                                question2  is_duplicate  wmd  \n",
       "8                   When do you use \"&\" instead of \"and\"?             0  0.0  \n",
       "14      What are the laws to change your status from a...             0  0.0  \n",
       "41         When can I expect Cognizant confirmation mail?             0  0.0  \n",
       "42              Can I make 30,000 a month by day trading?             0  0.0  \n",
       "89      What is your review of The Next Warrior: Provi...             0  0.0  \n",
       "...                                                   ...           ...  ...  \n",
       "404194  How do the tourist attractions on the Scandina...             0  0.0  \n",
       "404207             Is it safe to drink tap water in Pune?             0  0.0  \n",
       "404252       What are the best free web hosting services?             0  0.0  \n",
       "404270      What is the difference between \"&\" and \"and\"?             0  0.0  \n",
       "404289      What is it like to have sex with your cousin?             0  0.0  \n",
       "\n",
       "[18565 rows x 7 columns]"
      ]
     },
     "execution_count": 19,
     "metadata": {},
     "output_type": "execute_result"
    }
   ],
   "source": [
    "non__duplicates_df[non__duplicates_df['wmd']==0]"
   ]
  },
  {
   "cell_type": "code",
   "execution_count": 20,
   "metadata": {
    "ExecuteTime": {
     "end_time": "2021-01-04T16:18:26.435316Z",
     "start_time": "2021-01-04T16:18:26.422155Z"
    }
   },
   "outputs": [
    {
     "data": {
      "text/html": [
       "<div>\n",
       "<style scoped>\n",
       "    .dataframe tbody tr th:only-of-type {\n",
       "        vertical-align: middle;\n",
       "    }\n",
       "\n",
       "    .dataframe tbody tr th {\n",
       "        vertical-align: top;\n",
       "    }\n",
       "\n",
       "    .dataframe thead th {\n",
       "        text-align: right;\n",
       "    }\n",
       "</style>\n",
       "<table border=\"1\" class=\"dataframe\">\n",
       "  <thead>\n",
       "    <tr style=\"text-align: right;\">\n",
       "      <th></th>\n",
       "      <th>id</th>\n",
       "      <th>qid1</th>\n",
       "      <th>qid2</th>\n",
       "      <th>question1</th>\n",
       "      <th>question2</th>\n",
       "      <th>is_duplicate</th>\n",
       "      <th>wmd</th>\n",
       "    </tr>\n",
       "  </thead>\n",
       "  <tbody>\n",
       "    <tr>\n",
       "      <th>40</th>\n",
       "      <td>40</td>\n",
       "      <td>81</td>\n",
       "      <td>82</td>\n",
       "      <td>Why do Slavs squat?</td>\n",
       "      <td>Will squats make my legs thicker?</td>\n",
       "      <td>0</td>\n",
       "      <td>inf</td>\n",
       "    </tr>\n",
       "    <tr>\n",
       "      <th>56</th>\n",
       "      <td>56</td>\n",
       "      <td>113</td>\n",
       "      <td>114</td>\n",
       "      <td>Who is israil friend?</td>\n",
       "      <td>Is my boyfriend lying about his true feelings ...</td>\n",
       "      <td>0</td>\n",
       "      <td>inf</td>\n",
       "    </tr>\n",
       "    <tr>\n",
       "      <th>97</th>\n",
       "      <td>97</td>\n",
       "      <td>195</td>\n",
       "      <td>196</td>\n",
       "      <td>Why did harry become a horcrux?</td>\n",
       "      <td>What is a Horcrux?</td>\n",
       "      <td>0</td>\n",
       "      <td>inf</td>\n",
       "    </tr>\n",
       "    <tr>\n",
       "      <th>106</th>\n",
       "      <td>106</td>\n",
       "      <td>213</td>\n",
       "      <td>214</td>\n",
       "      <td>Have you ever heard of travel hacking?</td>\n",
       "      <td>Can WhatsApp be hacked?</td>\n",
       "      <td>0</td>\n",
       "      <td>inf</td>\n",
       "    </tr>\n",
       "    <tr>\n",
       "      <th>115</th>\n",
       "      <td>115</td>\n",
       "      <td>231</td>\n",
       "      <td>232</td>\n",
       "      <td>Why do we cry when we are happy and when we ar...</td>\n",
       "      <td>Why do we cry?</td>\n",
       "      <td>0</td>\n",
       "      <td>inf</td>\n",
       "    </tr>\n",
       "  </tbody>\n",
       "</table>\n",
       "</div>"
      ],
      "text/plain": [
       "      id  qid1  qid2                                          question1  \\\n",
       "40    40    81    82                                Why do Slavs squat?   \n",
       "56    56   113   114                              Who is israil friend?   \n",
       "97    97   195   196                    Why did harry become a horcrux?   \n",
       "106  106   213   214             Have you ever heard of travel hacking?   \n",
       "115  115   231   232  Why do we cry when we are happy and when we ar...   \n",
       "\n",
       "                                             question2  is_duplicate  wmd  \n",
       "40                   Will squats make my legs thicker?             0  inf  \n",
       "56   Is my boyfriend lying about his true feelings ...             0  inf  \n",
       "97                                  What is a Horcrux?             0  inf  \n",
       "106                            Can WhatsApp be hacked?             0  inf  \n",
       "115                                     Why do we cry?             0  inf  "
      ]
     },
     "execution_count": 20,
     "metadata": {},
     "output_type": "execute_result"
    }
   ],
   "source": [
    "inf_df.head()"
   ]
  }
 ],
 "metadata": {
  "kernelspec": {
   "display_name": "Python 3",
   "language": "python",
   "name": "python3"
  },
  "language_info": {
   "codemirror_mode": {
    "name": "ipython",
    "version": 3
   },
   "file_extension": ".py",
   "mimetype": "text/x-python",
   "name": "python",
   "nbconvert_exporter": "python",
   "pygments_lexer": "ipython3",
   "version": "3.7.6"
  }
 },
 "nbformat": 4,
 "nbformat_minor": 4
}
